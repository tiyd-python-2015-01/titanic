{
 "metadata": {
  "name": "",
  "signature": "sha256:51f8d9505439c00f981f08b58f29950ce6d645b453418cd3c6189ff498bec686"
 },
 "nbformat": 3,
 "nbformat_minor": 0,
 "worksheets": [
  {
   "cells": [
    {
     "cell_type": "heading",
     "level": 1,
     "metadata": {},
     "source": [
      "Machine Learning: Titanic Survivors"
     ]
    },
    {
     "cell_type": "heading",
     "level": 2,
     "metadata": {},
     "source": [
      "A Kaggle competition"
     ]
    },
    {
     "cell_type": "code",
     "collapsed": false,
     "input": [
      "import pandas as pd\n",
      "import numpy as np\n",
      "import matplotlib.pyplot as plt\n",
      "import seaborn as sb"
     ],
     "language": "python",
     "metadata": {},
     "outputs": [],
     "prompt_number": 1
    },
    {
     "cell_type": "code",
     "collapsed": false,
     "input": [
      "%matplotlib inline"
     ],
     "language": "python",
     "metadata": {},
     "outputs": [],
     "prompt_number": 2
    },
    {
     "cell_type": "code",
     "collapsed": false,
     "input": [
      "train = pd.read_csv(\"train.csv\")\n",
      "train.info()"
     ],
     "language": "python",
     "metadata": {},
     "outputs": [
      {
       "output_type": "stream",
       "stream": "stdout",
       "text": [
        "<class 'pandas.core.frame.DataFrame'>\n",
        "Int64Index: 891 entries, 0 to 890\n",
        "Data columns (total 12 columns):\n",
        "PassengerId    891 non-null int64\n",
        "Survived       891 non-null int64\n",
        "Pclass         891 non-null int64\n",
        "Name           891 non-null object\n",
        "Sex            891 non-null object\n",
        "Age            714 non-null float64\n",
        "SibSp          891 non-null int64\n",
        "Parch          891 non-null int64\n",
        "Ticket         891 non-null object\n",
        "Fare           891 non-null float64\n",
        "Cabin          204 non-null object\n",
        "Embarked       889 non-null object\n",
        "dtypes: float64(2), int64(5), object(5)\n",
        "memory usage: 90.5+ KB\n"
       ]
      }
     ],
     "prompt_number": 3
    },
    {
     "cell_type": "code",
     "collapsed": false,
     "input": [
      "train.head()"
     ],
     "language": "python",
     "metadata": {},
     "outputs": [
      {
       "html": [
        "<div style=\"max-height:1000px;max-width:1500px;overflow:auto;\">\n",
        "<table border=\"1\" class=\"dataframe\">\n",
        "  <thead>\n",
        "    <tr style=\"text-align: right;\">\n",
        "      <th></th>\n",
        "      <th>PassengerId</th>\n",
        "      <th>Survived</th>\n",
        "      <th>Pclass</th>\n",
        "      <th>Name</th>\n",
        "      <th>Sex</th>\n",
        "      <th>Age</th>\n",
        "      <th>SibSp</th>\n",
        "      <th>Parch</th>\n",
        "      <th>Ticket</th>\n",
        "      <th>Fare</th>\n",
        "      <th>Cabin</th>\n",
        "      <th>Embarked</th>\n",
        "    </tr>\n",
        "  </thead>\n",
        "  <tbody>\n",
        "    <tr>\n",
        "      <th>0</th>\n",
        "      <td> 1</td>\n",
        "      <td> 0</td>\n",
        "      <td> 3</td>\n",
        "      <td>                           Braund, Mr. Owen Harris</td>\n",
        "      <td>   male</td>\n",
        "      <td> 22</td>\n",
        "      <td> 1</td>\n",
        "      <td> 0</td>\n",
        "      <td>        A/5 21171</td>\n",
        "      <td>  7.2500</td>\n",
        "      <td>  NaN</td>\n",
        "      <td> S</td>\n",
        "    </tr>\n",
        "    <tr>\n",
        "      <th>1</th>\n",
        "      <td> 2</td>\n",
        "      <td> 1</td>\n",
        "      <td> 1</td>\n",
        "      <td> Cumings, Mrs. John Bradley (Florence Briggs Th...</td>\n",
        "      <td> female</td>\n",
        "      <td> 38</td>\n",
        "      <td> 1</td>\n",
        "      <td> 0</td>\n",
        "      <td>         PC 17599</td>\n",
        "      <td> 71.2833</td>\n",
        "      <td>  C85</td>\n",
        "      <td> C</td>\n",
        "    </tr>\n",
        "    <tr>\n",
        "      <th>2</th>\n",
        "      <td> 3</td>\n",
        "      <td> 1</td>\n",
        "      <td> 3</td>\n",
        "      <td>                            Heikkinen, Miss. Laina</td>\n",
        "      <td> female</td>\n",
        "      <td> 26</td>\n",
        "      <td> 0</td>\n",
        "      <td> 0</td>\n",
        "      <td> STON/O2. 3101282</td>\n",
        "      <td>  7.9250</td>\n",
        "      <td>  NaN</td>\n",
        "      <td> S</td>\n",
        "    </tr>\n",
        "    <tr>\n",
        "      <th>3</th>\n",
        "      <td> 4</td>\n",
        "      <td> 1</td>\n",
        "      <td> 1</td>\n",
        "      <td>      Futrelle, Mrs. Jacques Heath (Lily May Peel)</td>\n",
        "      <td> female</td>\n",
        "      <td> 35</td>\n",
        "      <td> 1</td>\n",
        "      <td> 0</td>\n",
        "      <td>           113803</td>\n",
        "      <td> 53.1000</td>\n",
        "      <td> C123</td>\n",
        "      <td> S</td>\n",
        "    </tr>\n",
        "    <tr>\n",
        "      <th>4</th>\n",
        "      <td> 5</td>\n",
        "      <td> 0</td>\n",
        "      <td> 3</td>\n",
        "      <td>                          Allen, Mr. William Henry</td>\n",
        "      <td>   male</td>\n",
        "      <td> 35</td>\n",
        "      <td> 0</td>\n",
        "      <td> 0</td>\n",
        "      <td>           373450</td>\n",
        "      <td>  8.0500</td>\n",
        "      <td>  NaN</td>\n",
        "      <td> S</td>\n",
        "    </tr>\n",
        "  </tbody>\n",
        "</table>\n",
        "</div>"
       ],
       "metadata": {},
       "output_type": "pyout",
       "prompt_number": 4,
       "text": [
        "   PassengerId  Survived  Pclass  \\\n",
        "0            1         0       3   \n",
        "1            2         1       1   \n",
        "2            3         1       3   \n",
        "3            4         1       1   \n",
        "4            5         0       3   \n",
        "\n",
        "                                                Name     Sex  Age  SibSp  \\\n",
        "0                            Braund, Mr. Owen Harris    male   22      1   \n",
        "1  Cumings, Mrs. John Bradley (Florence Briggs Th...  female   38      1   \n",
        "2                             Heikkinen, Miss. Laina  female   26      0   \n",
        "3       Futrelle, Mrs. Jacques Heath (Lily May Peel)  female   35      1   \n",
        "4                           Allen, Mr. William Henry    male   35      0   \n",
        "\n",
        "   Parch            Ticket     Fare Cabin Embarked  \n",
        "0      0         A/5 21171   7.2500   NaN        S  \n",
        "1      0          PC 17599  71.2833   C85        C  \n",
        "2      0  STON/O2. 3101282   7.9250   NaN        S  \n",
        "3      0            113803  53.1000  C123        S  \n",
        "4      0            373450   8.0500   NaN        S  "
       ]
      }
     ],
     "prompt_number": 4
    },
    {
     "cell_type": "heading",
     "level": 5,
     "metadata": {},
     "source": [
      "The file is imported and now it is time to find patterns in the data"
     ]
    },
    {
     "cell_type": "code",
     "collapsed": false,
     "input": [
      "pd.pivot_table(train, index=[\"Sex\"], values=[\"Survived\"]).plot(kind=\"barh\")"
     ],
     "language": "python",
     "metadata": {},
     "outputs": [
      {
       "metadata": {},
       "output_type": "pyout",
       "prompt_number": 5,
       "text": [
        "<matplotlib.axes._subplots.AxesSubplot at 0x10a39f6d8>"
       ]
      },
      {
       "metadata": {},
       "output_type": "display_data",
       "png": "[encoded data removed]",
       "text": [
        "<matplotlib.figure.Figure at 0x10a386a20>"
       ]
      }
     ],
     "prompt_number": 5
    },
    {
     "cell_type": "markdown",
     "metadata": {},
     "source": [
      "Female passengers are much more likely to survive than male passengers, so we can use this data to predict survivors"
     ]
    },
    {
     "cell_type": "code",
     "collapsed": false,
     "input": [
      "train[\"Survived\"].value_counts()"
     ],
     "language": "python",
     "metadata": {},
     "outputs": [
      {
       "metadata": {},
       "output_type": "pyout",
       "prompt_number": 6,
       "text": [
        "0    549\n",
        "1    342\n",
        "dtype: int64"
       ]
      }
     ],
     "prompt_number": 6
    },
    {
     "cell_type": "code",
     "collapsed": false,
     "input": [
      "342 / (549 + 342) * 100"
     ],
     "language": "python",
     "metadata": {},
     "outputs": [
      {
       "metadata": {},
       "output_type": "pyout",
       "prompt_number": 7,
       "text": [
        "38.38383838383838"
       ]
      }
     ],
     "prompt_number": 7
    },
    {
     "cell_type": "markdown",
     "metadata": {},
     "source": [
      "38.38 percent of people survived in total"
     ]
    },
    {
     "cell_type": "code",
     "collapsed": false,
     "input": [
      "def map_age_range(age):\n",
      "    \"Assigns an age range based on age value\"\n",
      "    if age in range(0,10):\n",
      "        return \"0 - 10\"\n",
      "    elif age in range(10,15):\n",
      "        return \"10 - 15\"\n",
      "    elif age in range(15,20):\n",
      "        return \"15 - 20\"\n",
      "    elif age in range(20,30):\n",
      "        return \"20 - 30\"\n",
      "    elif age in range(30,40):\n",
      "        return \"30 - 40\"\n",
      "    elif age in range(40,50):\n",
      "        return \"40 - 50\"\n",
      "    elif age in range(50,60):\n",
      "        return \"50 - 60\"\n",
      "    elif age in range(60,70):\n",
      "        return \"60 - 70\"\n",
      "    elif age in range(70,80):\n",
      "        return \"70 - 80\"\n",
      "    else:\n",
      "        return \"80 plus\"\n",
      "    "
     ],
     "language": "python",
     "metadata": {},
     "outputs": [],
     "prompt_number": 8
    },
    {
     "cell_type": "code",
     "collapsed": false,
     "input": [
      "train[\"AgeRange\"] = train[\"Age\"].map(map_age_range)\n"
     ],
     "language": "python",
     "metadata": {},
     "outputs": [],
     "prompt_number": 9
    },
    {
     "cell_type": "code",
     "collapsed": false,
     "input": [
      "train.head()"
     ],
     "language": "python",
     "metadata": {},
     "outputs": [
      {
       "html": [
        "<div style=\"max-height:1000px;max-width:1500px;overflow:auto;\">\n",
        "<table border=\"1\" class=\"dataframe\">\n",
        "  <thead>\n",
        "    <tr style=\"text-align: right;\">\n",
        "      <th></th>\n",
        "      <th>PassengerId</th>\n",
        "      <th>Survived</th>\n",
        "      <th>Pclass</th>\n",
        "      <th>Name</th>\n",
        "      <th>Sex</th>\n",
        "      <th>Age</th>\n",
        "      <th>SibSp</th>\n",
        "      <th>Parch</th>\n",
        "      <th>Ticket</th>\n",
        "      <th>Fare</th>\n",
        "      <th>Cabin</th>\n",
        "      <th>Embarked</th>\n",
        "      <th>AgeRange</th>\n",
        "    </tr>\n",
        "  </thead>\n",
        "  <tbody>\n",
        "    <tr>\n",
        "      <th>0</th>\n",
        "      <td> 1</td>\n",
        "      <td> 0</td>\n",
        "      <td> 3</td>\n",
        "      <td>                           Braund, Mr. Owen Harris</td>\n",
        "      <td>   male</td>\n",
        "      <td> 22</td>\n",
        "      <td> 1</td>\n",
        "      <td> 0</td>\n",
        "      <td>        A/5 21171</td>\n",
        "      <td>  7.2500</td>\n",
        "      <td>  NaN</td>\n",
        "      <td> S</td>\n",
        "      <td> 20 - 30</td>\n",
        "    </tr>\n",
        "    <tr>\n",
        "      <th>1</th>\n",
        "      <td> 2</td>\n",
        "      <td> 1</td>\n",
        "      <td> 1</td>\n",
        "      <td> Cumings, Mrs. John Bradley (Florence Briggs Th...</td>\n",
        "      <td> female</td>\n",
        "      <td> 38</td>\n",
        "      <td> 1</td>\n",
        "      <td> 0</td>\n",
        "      <td>         PC 17599</td>\n",
        "      <td> 71.2833</td>\n",
        "      <td>  C85</td>\n",
        "      <td> C</td>\n",
        "      <td> 30 - 40</td>\n",
        "    </tr>\n",
        "    <tr>\n",
        "      <th>2</th>\n",
        "      <td> 3</td>\n",
        "      <td> 1</td>\n",
        "      <td> 3</td>\n",
        "      <td>                            Heikkinen, Miss. Laina</td>\n",
        "      <td> female</td>\n",
        "      <td> 26</td>\n",
        "      <td> 0</td>\n",
        "      <td> 0</td>\n",
        "      <td> STON/O2. 3101282</td>\n",
        "      <td>  7.9250</td>\n",
        "      <td>  NaN</td>\n",
        "      <td> S</td>\n",
        "      <td> 20 - 30</td>\n",
        "    </tr>\n",
        "    <tr>\n",
        "      <th>3</th>\n",
        "      <td> 4</td>\n",
        "      <td> 1</td>\n",
        "      <td> 1</td>\n",
        "      <td>      Futrelle, Mrs. Jacques Heath (Lily May Peel)</td>\n",
        "      <td> female</td>\n",
        "      <td> 35</td>\n",
        "      <td> 1</td>\n",
        "      <td> 0</td>\n",
        "      <td>           113803</td>\n",
        "      <td> 53.1000</td>\n",
        "      <td> C123</td>\n",
        "      <td> S</td>\n",
        "      <td> 30 - 40</td>\n",
        "    </tr>\n",
        "    <tr>\n",
        "      <th>4</th>\n",
        "      <td> 5</td>\n",
        "      <td> 0</td>\n",
        "      <td> 3</td>\n",
        "      <td>                          Allen, Mr. William Henry</td>\n",
        "      <td>   male</td>\n",
        "      <td> 35</td>\n",
        "      <td> 0</td>\n",
        "      <td> 0</td>\n",
        "      <td>           373450</td>\n",
        "      <td>  8.0500</td>\n",
        "      <td>  NaN</td>\n",
        "      <td> S</td>\n",
        "      <td> 30 - 40</td>\n",
        "    </tr>\n",
        "  </tbody>\n",
        "</table>\n",
        "</div>"
       ],
       "metadata": {},
       "output_type": "pyout",
       "prompt_number": 10,
       "text": [
        "   PassengerId  Survived  Pclass  \\\n",
        "0            1         0       3   \n",
        "1            2         1       1   \n",
        "2            3         1       3   \n",
        "3            4         1       1   \n",
        "4            5         0       3   \n",
        "\n",
        "                                                Name     Sex  Age  SibSp  \\\n",
        "0                            Braund, Mr. Owen Harris    male   22      1   \n",
        "1  Cumings, Mrs. John Bradley (Florence Briggs Th...  female   38      1   \n",
        "2                             Heikkinen, Miss. Laina  female   26      0   \n",
        "3       Futrelle, Mrs. Jacques Heath (Lily May Peel)  female   35      1   \n",
        "4                           Allen, Mr. William Henry    male   35      0   \n",
        "\n",
        "   Parch            Ticket     Fare Cabin Embarked AgeRange  \n",
        "0      0         A/5 21171   7.2500   NaN        S  20 - 30  \n",
        "1      0          PC 17599  71.2833   C85        C  30 - 40  \n",
        "2      0  STON/O2. 3101282   7.9250   NaN        S  20 - 30  \n",
        "3      0            113803  53.1000  C123        S  30 - 40  \n",
        "4      0            373450   8.0500   NaN        S  30 - 40  "
       ]
      }
     ],
     "prompt_number": 10
    },
    {
     "cell_type": "markdown",
     "metadata": {},
     "source": [
      "Checking the survivors by age range"
     ]
    },
    {
     "cell_type": "code",
     "collapsed": false,
     "input": [
      "pd.pivot_table(train, index=[\"AgeRange\"], values=[\"Survived\"]).plot(kind=\"barh\")\n",
      "plt.axvline(x=0.5, linewidth=2, color='r')"
     ],
     "language": "python",
     "metadata": {},
     "outputs": [
      {
       "metadata": {},
       "output_type": "pyout",
       "prompt_number": 11,
       "text": [
        "<matplotlib.lines.Line2D at 0x10a386cc0>"
       ]
      },
      {
       "metadata": {},
       "output_type": "display_data",
       "png": "[encoded data removed]",
       "text": [
        "<matplotlib.figure.Figure at 0x10a214ba8>"
       ]
      }
     ],
     "prompt_number": 11
    },
    {
     "cell_type": "markdown",
     "metadata": {},
     "source": [
      "We can see anyone 0-10 had a higher chance of surviving"
     ]
    },
    {
     "cell_type": "code",
     "collapsed": false,
     "input": [
      "pd.pivot_table(train, index=[\"Sex\", \"AgeRange\"], values=[\"Survived\"]).plot(kind=\"barh\")\n",
      "plt.axvline(x=0.5, linewidth=2, color='r')"
     ],
     "language": "python",
     "metadata": {},
     "outputs": [
      {
       "metadata": {},
       "output_type": "pyout",
       "prompt_number": 12,
       "text": [
        "<matplotlib.lines.Line2D at 0x10a322860>"
       ]
      },
      {
       "metadata": {},
       "output_type": "display_data",
       "png": "[encoded data removed]",
       "text": [
        "<matplotlib.figure.Figure at 0x10a33aa58>"
       ]
      }
     ],
     "prompt_number": 12
    },
    {
     "cell_type": "markdown",
     "metadata": {},
     "source": [
      "We can see Females over 50 have a very high rate of survival. If you are a male over the age of 10, you probably did not survive."
     ]
    },
    {
     "cell_type": "heading",
     "level": 1,
     "metadata": {},
     "source": [
      "1st Submission"
     ]
    },
    {
     "cell_type": "markdown",
     "metadata": {},
     "source": [
      "Let's assume all females survived and everyone under the age of 10 survived"
     ]
    },
    {
     "cell_type": "code",
     "collapsed": false,
     "input": [
      "test = pd.read_csv(\"test.csv\")\n",
      "test[\"Survived\"] = 0\n",
      "test.loc[(test[\"Sex\"] == \"female\") & (test[\"Age\"] > 10 ), \"Survived\"] = 1\n",
      "test.loc[(test[\"Age\"]) <= 10, \"Survived\"] = 1"
     ],
     "language": "python",
     "metadata": {},
     "outputs": [],
     "prompt_number": 13
    },
    {
     "cell_type": "code",
     "collapsed": false,
     "input": [
      "test = test[[\"PassengerId\", \"Survived\"]]\n",
      "test.to_csv(\"gendermodel.csv\", index=False)"
     ],
     "language": "python",
     "metadata": {},
     "outputs": [],
     "prompt_number": 14
    },
    {
     "cell_type": "markdown",
     "metadata": {},
     "source": [
      "This got a result of 0.78947!"
     ]
    },
    {
     "cell_type": "code",
     "collapsed": false,
     "input": [
      "pd.pivot_table(train, index=[\"Sex\", \"Pclass\"], values=[\"Survived\"]).plot(kind=\"barh\")\n",
      "plt.axvline(x=0.5, linewidth=2, color='r')"
     ],
     "language": "python",
     "metadata": {},
     "outputs": [
      {
       "metadata": {},
       "output_type": "pyout",
       "prompt_number": 15,
       "text": [
        "<matplotlib.lines.Line2D at 0x10a20e518>"
       ]
      },
      {
       "metadata": {},
       "output_type": "display_data",
       "png": "[encoded data removed]",
       "text": [
        "<matplotlib.figure.Figure at 0x10a5303c8>"
       ]
      }
     ],
     "prompt_number": 15
    },
    {
     "cell_type": "markdown",
     "metadata": {},
     "source": [
      "This second submission got the same result"
     ]
    },
    {
     "cell_type": "code",
     "collapsed": false,
     "input": [
      "test = pd.read_csv(\"test.csv\")\n",
      "test[\"Survived\"] = 0\n",
      "test.loc[(test[\"Sex\"] == \"female\") & (test[\"Age\"] > 10 ), \"Survived\"] = 1\n",
      "test.loc[(test[\"Age\"]) <= 10, \"Survived\"] = 1\n",
      "test.loc[(test[\"Sex\"] == \"female\") & (test[\"Pclass\"] == 1), \"Survived\"] = 1\n",
      "test.loc[(test[\"Sex\"] == \"female\") & (test[\"Pclass\"] == 2), \"Survived\"] = 1"
     ],
     "language": "python",
     "metadata": {},
     "outputs": [],
     "prompt_number": 16
    },
    {
     "cell_type": "code",
     "collapsed": false,
     "input": [
      "test = test[[\"PassengerId\", \"Survived\"]]\n",
      "test.to_csv(\"genderclassmodel.csv\", index=False)"
     ],
     "language": "python",
     "metadata": {},
     "outputs": [],
     "prompt_number": 17
    },
    {
     "cell_type": "markdown",
     "metadata": {},
     "source": [
      "What males survived? We know most females survived but obviously some men also survived, can we figure out that?"
     ]
    },
    {
     "cell_type": "code",
     "collapsed": false,
     "input": [
      "males = train[train[\"Sex\"] == \"male\"]"
     ],
     "language": "python",
     "metadata": {},
     "outputs": [],
     "prompt_number": 18
    },
    {
     "cell_type": "code",
     "collapsed": false,
     "input": [
      "females = train[train[\"Sex\"] == \"female\"]"
     ],
     "language": "python",
     "metadata": {},
     "outputs": [],
     "prompt_number": 19
    },
    {
     "cell_type": "code",
     "collapsed": false,
     "input": [
      "pd.pivot_table(males, index=[\"Pclass\", \"AgeRange\"], values=[\"Survived\"]).plot(kind=\"barh\", )\n",
      "plt.axvline(x=0.5, linewidth=2, color='r')"
     ],
     "language": "python",
     "metadata": {},
     "outputs": [
      {
       "metadata": {},
       "output_type": "pyout",
       "prompt_number": 20,
       "text": [
        "<matplotlib.lines.Line2D at 0x10a550400>"
       ]
      },
      {
       "metadata": {},
       "output_type": "display_data",
       "png": "[encoded data removed]",
       "text": [
        "<matplotlib.figure.Figure at 0x10a52aeb8>"
       ]
      }
     ],
     "prompt_number": 20
    },
    {
     "cell_type": "markdown",
     "metadata": {},
     "source": [
      "Males in the first and second class ages 0-10 all survived. Males ages 20-40 in first class also showed a high probability of surviving"
     ]
    },
    {
     "cell_type": "code",
     "collapsed": false,
     "input": [
      "pd.pivot_table(females, index=[\"Pclass\", \"AgeRange\"], values=[\"Survived\"]).plot(kind=\"barh\")\n",
      "plt.axvline(x=0.5, linewidth=2, color='r')"
     ],
     "language": "python",
     "metadata": {},
     "outputs": [
      {
       "metadata": {},
       "output_type": "pyout",
       "prompt_number": 21,
       "text": [
        "<matplotlib.lines.Line2D at 0x10a79d9b0>"
       ]
      },
      {
       "metadata": {},
       "output_type": "display_data",
       "png": "[encoded data removed]",
       "text": [
        "<matplotlib.figure.Figure at 0x10a7a01d0>"
       ]
      }
     ],
     "prompt_number": 21
    },
    {
     "cell_type": "markdown",
     "metadata": {},
     "source": [
      "Nearly all the females in the first and second class survived. Females age 20 - 60 in 3rd class had a lower chance of surviving, but data may be inconclusive"
     ]
    },
    {
     "cell_type": "code",
     "collapsed": false,
     "input": [
      "def ticket_price(fare):\n",
      "    if fare < 5:\n",
      "        return \"$5 or less\"\n",
      "    elif fare < 10:\n",
      "        return \"$5-10\"\n",
      "    elif fare < 15:\n",
      "        return \"$10-15\"\n",
      "    elif fare < 20:\n",
      "        return \"$15-20\"\n",
      "    elif fare < 25:\n",
      "        return \"$20-25\"\n",
      "    elif fare < 30:\n",
      "        return \"$25-30\"\n",
      "    elif fare < 40:\n",
      "        return \"$40 or over\""
     ],
     "language": "python",
     "metadata": {},
     "outputs": [],
     "prompt_number": 22
    },
    {
     "cell_type": "code",
     "collapsed": false,
     "input": [
      "train[\"TicketPrice\"] = train[\"Fare\"].map(ticket_price)"
     ],
     "language": "python",
     "metadata": {},
     "outputs": [],
     "prompt_number": 23
    },
    {
     "cell_type": "code",
     "collapsed": false,
     "input": [
      "males[\"TicketPrice\"] = train[\"Fare\"].map(ticket_price)"
     ],
     "language": "python",
     "metadata": {},
     "outputs": [
      {
       "output_type": "stream",
       "stream": "stderr",
       "text": [
        "-c:1: SettingWithCopyWarning: \n",
        "A value is trying to be set on a copy of a slice from a DataFrame.\n",
        "Try using .loc[row_indexer,col_indexer] = value instead\n",
        "\n",
        "See the the caveats in the documentation: http://pandas.pydata.org/pandas-docs/stable/indexing.html#indexing-view-versus-copy\n"
       ]
      }
     ],
     "prompt_number": 24
    },
    {
     "cell_type": "code",
     "collapsed": false,
     "input": [
      "females[\"TicketPrice\"] = train[\"Fare\"].map(ticket_price)"
     ],
     "language": "python",
     "metadata": {},
     "outputs": [],
     "prompt_number": 25
    },
    {
     "cell_type": "heading",
     "level": 3,
     "metadata": {},
     "source": [
      "Males by ticket price and class"
     ]
    },
    {
     "cell_type": "code",
     "collapsed": false,
     "input": [
      "pd.pivot_table(males, index=[\"TicketPrice\", \"Pclass\"], values=[\"Survived\"]) \\\n",
      "    .plot(kind=\"barh\")"
     ],
     "language": "python",
     "metadata": {},
     "outputs": [
      {
       "metadata": {},
       "output_type": "pyout",
       "prompt_number": 26,
       "text": [
        "<matplotlib.axes._subplots.AxesSubplot at 0x10a7a03c8>"
       ]
      },
      {
       "metadata": {},
       "output_type": "display_data",
       "png": "[encoded data removed]",
       "text": [
        "<matplotlib.figure.Figure at 0x10a70fe80>"
       ]
      }
     ],
     "prompt_number": 26
    },
    {
     "cell_type": "heading",
     "level": 3,
     "metadata": {},
     "source": [
      "Females by ticket price and class"
     ]
    },
    {
     "cell_type": "code",
     "collapsed": false,
     "input": [
      "pd.pivot_table(females, index=[\"TicketPrice\", \"Pclass\"], values=[\"Survived\"]) \\\n",
      "    .plot(kind=\"barh\")\n",
      "plt.axvline(x=0.5, linewidth=2, color='r')"
     ],
     "language": "python",
     "metadata": {},
     "outputs": [
      {
       "metadata": {},
       "output_type": "pyout",
       "prompt_number": 27,
       "text": [
        "<matplotlib.lines.Line2D at 0x10aa065f8>"
       ]
      },
      {
       "metadata": {},
       "output_type": "display_data",
       "png": "[encoded data removed]",
       "text": [
        "<matplotlib.figure.Figure at 0x10a9e2cf8>"
       ]
      }
     ],
     "prompt_number": 27
    },
    {
     "cell_type": "markdown",
     "metadata": {},
     "source": [
      "We want to narrow down the amount of females that survived. A female in 3rd class who payed $10-15 for a ticket is less than likely to survive"
     ]
    },
    {
     "cell_type": "code",
     "collapsed": false,
     "input": [
      "females_third_class = females[females.Pclass == 3]"
     ],
     "language": "python",
     "metadata": {},
     "outputs": [],
     "prompt_number": 28
    },
    {
     "cell_type": "code",
     "collapsed": false,
     "input": [
      "#plt.rcParams['figure.figsize'] = 10,15\n",
      "pd.pivot_table(females_third_class, index=[\"AgeRange\"], values=[\"Survived\"]) \\\n",
      ".plot(kind=\"barh\")\n",
      "plt.axvline(x=0.5, linewidth=2, color='r')"
     ],
     "language": "python",
     "metadata": {},
     "outputs": [
      {
       "metadata": {},
       "output_type": "pyout",
       "prompt_number": 29,
       "text": [
        "<matplotlib.lines.Line2D at 0x10aa249b0>"
       ]
      },
      {
       "metadata": {},
       "output_type": "display_data",
       "png": "[encoded data removed]",
       "text": [
        "<matplotlib.figure.Figure at 0x10ab285f8>"
       ]
      }
     ],
     "prompt_number": 29
    },
    {
     "cell_type": "markdown",
     "metadata": {},
     "source": [
      "This submission tries to narrow down the women by class and age. Women who are in 3rd 0-10 and 20-60 are marked as not surviving. Men 1st class 20-40 survived. Male children under 10 survived in first and second class."
     ]
    },
    {
     "cell_type": "code",
     "collapsed": false,
     "input": [
      "test = pd.read_csv(\"test.csv\")\n",
      "test[\"Survived\"] = 0\n",
      "test.loc[(test[\"Sex\"] == \"female\") & (test[\"Pclass\"] == 3) & (test[\"Age\"].isin(range(10,20))), \"Survived\"] = 1\n",
      "test.loc[(test[\"Sex\"] == \"female\") & (test[\"Pclass\"] == 3) & (test[\"Age\"].isin(range(60,120))), \"Survived\"] = 1\n",
      "test.loc[(test[\"Sex\"] == \"female\") & (test[\"Pclass\"].isin([1,2])), \"Survived\"] = 1\n",
      "test.loc[(test[\"Sex\"] == \"male\") & (test[\"Pclass\"].isin([1,2])) & (test[\"Age\"] < 10) , \"Survived\"] = 1\n",
      "test.loc[(test[\"Sex\"] == \"male\") & (test[\"Pclass\"] == 1) & (test[\"Age\"] > 20) & (test[\"Age\"] < 40), \"Survived\"] = 1"
     ],
     "language": "python",
     "metadata": {},
     "outputs": [],
     "prompt_number": 30
    },
    {
     "cell_type": "code",
     "collapsed": false,
     "input": [
      "test = test[[\"PassengerId\", \"Survived\"]]\n",
      "test.to_csv(\"genderclasstwo.csv\", index=False)"
     ],
     "language": "python",
     "metadata": {},
     "outputs": [],
     "prompt_number": 31
    },
    {
     "cell_type": "markdown",
     "metadata": {},
     "source": [
      "This scored 0.62201"
     ]
    },
    {
     "cell_type": "code",
     "collapsed": false,
     "input": [
      "test[\"Survived\"].value_counts()"
     ],
     "language": "python",
     "metadata": {},
     "outputs": [
      {
       "metadata": {},
       "output_type": "pyout",
       "prompt_number": 32,
       "text": [
        "0    306\n",
        "1    112\n",
        "dtype: int64"
       ]
      }
     ],
     "prompt_number": 32
    },
    {
     "cell_type": "code",
     "collapsed": false,
     "input": [
      "test = pd.read_csv(\"test.csv\")\n",
      "test[\"Survived\"] = 0\n",
      "test[\"Survived\"].value_counts()"
     ],
     "language": "python",
     "metadata": {},
     "outputs": [
      {
       "metadata": {},
       "output_type": "pyout",
       "prompt_number": 33,
       "text": [
        "0    418\n",
        "dtype: int64"
       ]
      }
     ],
     "prompt_number": 33
    },
    {
     "cell_type": "markdown",
     "metadata": {},
     "source": [
      "Trying to submit using stronger evidence"
     ]
    },
    {
     "cell_type": "code",
     "collapsed": false,
     "input": [
      "test.loc[(test[\"Sex\"] == \"female\") & (test[\"Age\"] > 10 ), \"Survived\"] = 1\n",
      "test.loc[(test[\"Age\"]) <= 10, \"Survived\"] = 1\n",
      "test.loc[(test[\"Sex\"] == \"male\") & (test[\"Pclass\"].isin([1,2])) & (test[\"Age\"] <= 10) , \"Survived\"] = 1\n",
      "test.loc[(test[\"Sex\"] == \"male\") & (test[\"Pclass\"] == 1) & (test[\"Age\"] > 20) & (test[\"Age\"] < 40), \"Survived\"] = 1"
     ],
     "language": "python",
     "metadata": {},
     "outputs": [],
     "prompt_number": 34
    },
    {
     "cell_type": "code",
     "collapsed": false,
     "input": [
      "test[\"Survived\"].value_counts()"
     ],
     "language": "python",
     "metadata": {},
     "outputs": [
      {
       "metadata": {},
       "output_type": "pyout",
       "prompt_number": 35,
       "text": [
        "0    261\n",
        "1    157\n",
        "dtype: int64"
       ]
      }
     ],
     "prompt_number": 35
    },
    {
     "cell_type": "code",
     "collapsed": false,
     "input": [
      "157 / (157 + 261)"
     ],
     "language": "python",
     "metadata": {},
     "outputs": [
      {
       "metadata": {},
       "output_type": "pyout",
       "prompt_number": 36,
       "text": [
        "0.37559808612440193"
       ]
      }
     ],
     "prompt_number": 36
    },
    {
     "cell_type": "code",
     "collapsed": false,
     "input": [
      "test = test[[\"PassengerId\", \"Survived\"]]\n",
      "test.to_csv(\"genderclassthree.csv\", index=False)"
     ],
     "language": "python",
     "metadata": {},
     "outputs": [],
     "prompt_number": 37
    },
    {
     "cell_type": "code",
     "collapsed": false,
     "input": [
      "train[(train[\"Sex\"] == \"female\") & (train[\"Pclass\"] == 3) & (train[\"Age\"].isin(range(20,60)))][\"Survived\"].value_counts()"
     ],
     "language": "python",
     "metadata": {},
     "outputs": [
      {
       "metadata": {},
       "output_type": "pyout",
       "prompt_number": 38,
       "text": [
        "0    33\n",
        "1    22\n",
        "dtype: int64"
       ]
      }
     ],
     "prompt_number": 38
    },
    {
     "cell_type": "code",
     "collapsed": false,
     "input": [
      "import re\n",
      "def get_cabin_letter(cabin):\n",
      "    try:\n",
      "        return cabin[0]\n",
      "    except TypeError:\n",
      "        return \"NaN\""
     ],
     "language": "python",
     "metadata": {},
     "outputs": [],
     "prompt_number": 39
    },
    {
     "cell_type": "code",
     "collapsed": false,
     "input": [
      "train[\"Cabin_letter\"] = train[\"Cabin\"].map(get_cabin_letter)"
     ],
     "language": "python",
     "metadata": {},
     "outputs": [],
     "prompt_number": 40
    },
    {
     "cell_type": "code",
     "collapsed": false,
     "input": [
      "males[\"Cabin_letter\"] = males[\"Cabin\"].map(get_cabin_letter)"
     ],
     "language": "python",
     "metadata": {},
     "outputs": [],
     "prompt_number": 41
    },
    {
     "cell_type": "code",
     "collapsed": false,
     "input": [
      "females[\"Cabin_letter\"] = females[\"Cabin\"].map(get_cabin_letter)"
     ],
     "language": "python",
     "metadata": {},
     "outputs": [],
     "prompt_number": 42
    },
    {
     "cell_type": "code",
     "collapsed": false,
     "input": [
      "train.head()"
     ],
     "language": "python",
     "metadata": {},
     "outputs": [
      {
       "html": [
        "<div style=\"max-height:1000px;max-width:1500px;overflow:auto;\">\n",
        "<table border=\"1\" class=\"dataframe\">\n",
        "  <thead>\n",
        "    <tr style=\"text-align: right;\">\n",
        "      <th></th>\n",
        "      <th>PassengerId</th>\n",
        "      <th>Survived</th>\n",
        "      <th>Pclass</th>\n",
        "      <th>Name</th>\n",
        "      <th>Sex</th>\n",
        "      <th>Age</th>\n",
        "      <th>SibSp</th>\n",
        "      <th>Parch</th>\n",
        "      <th>Ticket</th>\n",
        "      <th>Fare</th>\n",
        "      <th>Cabin</th>\n",
        "      <th>Embarked</th>\n",
        "      <th>AgeRange</th>\n",
        "      <th>TicketPrice</th>\n",
        "      <th>Cabin_letter</th>\n",
        "    </tr>\n",
        "  </thead>\n",
        "  <tbody>\n",
        "    <tr>\n",
        "      <th>0</th>\n",
        "      <td> 1</td>\n",
        "      <td> 0</td>\n",
        "      <td> 3</td>\n",
        "      <td>                           Braund, Mr. Owen Harris</td>\n",
        "      <td>   male</td>\n",
        "      <td> 22</td>\n",
        "      <td> 1</td>\n",
        "      <td> 0</td>\n",
        "      <td>        A/5 21171</td>\n",
        "      <td>  7.2500</td>\n",
        "      <td>  NaN</td>\n",
        "      <td> S</td>\n",
        "      <td> 20 - 30</td>\n",
        "      <td> $5-10</td>\n",
        "      <td> NaN</td>\n",
        "    </tr>\n",
        "    <tr>\n",
        "      <th>1</th>\n",
        "      <td> 2</td>\n",
        "      <td> 1</td>\n",
        "      <td> 1</td>\n",
        "      <td> Cumings, Mrs. John Bradley (Florence Briggs Th...</td>\n",
        "      <td> female</td>\n",
        "      <td> 38</td>\n",
        "      <td> 1</td>\n",
        "      <td> 0</td>\n",
        "      <td>         PC 17599</td>\n",
        "      <td> 71.2833</td>\n",
        "      <td>  C85</td>\n",
        "      <td> C</td>\n",
        "      <td> 30 - 40</td>\n",
        "      <td>  None</td>\n",
        "      <td>   C</td>\n",
        "    </tr>\n",
        "    <tr>\n",
        "      <th>2</th>\n",
        "      <td> 3</td>\n",
        "      <td> 1</td>\n",
        "      <td> 3</td>\n",
        "      <td>                            Heikkinen, Miss. Laina</td>\n",
        "      <td> female</td>\n",
        "      <td> 26</td>\n",
        "      <td> 0</td>\n",
        "      <td> 0</td>\n",
        "      <td> STON/O2. 3101282</td>\n",
        "      <td>  7.9250</td>\n",
        "      <td>  NaN</td>\n",
        "      <td> S</td>\n",
        "      <td> 20 - 30</td>\n",
        "      <td> $5-10</td>\n",
        "      <td> NaN</td>\n",
        "    </tr>\n",
        "    <tr>\n",
        "      <th>3</th>\n",
        "      <td> 4</td>\n",
        "      <td> 1</td>\n",
        "      <td> 1</td>\n",
        "      <td>      Futrelle, Mrs. Jacques Heath (Lily May Peel)</td>\n",
        "      <td> female</td>\n",
        "      <td> 35</td>\n",
        "      <td> 1</td>\n",
        "      <td> 0</td>\n",
        "      <td>           113803</td>\n",
        "      <td> 53.1000</td>\n",
        "      <td> C123</td>\n",
        "      <td> S</td>\n",
        "      <td> 30 - 40</td>\n",
        "      <td>  None</td>\n",
        "      <td>   C</td>\n",
        "    </tr>\n",
        "    <tr>\n",
        "      <th>4</th>\n",
        "      <td> 5</td>\n",
        "      <td> 0</td>\n",
        "      <td> 3</td>\n",
        "      <td>                          Allen, Mr. William Henry</td>\n",
        "      <td>   male</td>\n",
        "      <td> 35</td>\n",
        "      <td> 0</td>\n",
        "      <td> 0</td>\n",
        "      <td>           373450</td>\n",
        "      <td>  8.0500</td>\n",
        "      <td>  NaN</td>\n",
        "      <td> S</td>\n",
        "      <td> 30 - 40</td>\n",
        "      <td> $5-10</td>\n",
        "      <td> NaN</td>\n",
        "    </tr>\n",
        "  </tbody>\n",
        "</table>\n",
        "</div>"
       ],
       "metadata": {},
       "output_type": "pyout",
       "prompt_number": 43,
       "text": [
        "   PassengerId  Survived  Pclass  \\\n",
        "0            1         0       3   \n",
        "1            2         1       1   \n",
        "2            3         1       3   \n",
        "3            4         1       1   \n",
        "4            5         0       3   \n",
        "\n",
        "                                                Name     Sex  Age  SibSp  \\\n",
        "0                            Braund, Mr. Owen Harris    male   22      1   \n",
        "1  Cumings, Mrs. John Bradley (Florence Briggs Th...  female   38      1   \n",
        "2                             Heikkinen, Miss. Laina  female   26      0   \n",
        "3       Futrelle, Mrs. Jacques Heath (Lily May Peel)  female   35      1   \n",
        "4                           Allen, Mr. William Henry    male   35      0   \n",
        "\n",
        "   Parch            Ticket     Fare Cabin Embarked AgeRange TicketPrice  \\\n",
        "0      0         A/5 21171   7.2500   NaN        S  20 - 30       $5-10   \n",
        "1      0          PC 17599  71.2833   C85        C  30 - 40        None   \n",
        "2      0  STON/O2. 3101282   7.9250   NaN        S  20 - 30       $5-10   \n",
        "3      0            113803  53.1000  C123        S  30 - 40        None   \n",
        "4      0            373450   8.0500   NaN        S  30 - 40       $5-10   \n",
        "\n",
        "  Cabin_letter  \n",
        "0          NaN  \n",
        "1            C  \n",
        "2          NaN  \n",
        "3            C  \n",
        "4          NaN  "
       ]
      }
     ],
     "prompt_number": 43
    },
    {
     "cell_type": "code",
     "collapsed": false,
     "input": [
      "pd.pivot_table(males, index=[\"Cabin_letter\"], values=[\"Survived\"]) \\\n",
      "    .plot(kind=\"barh\")\n",
      "plt.axvline(x=0.5, linewidth=2, color='r')"
     ],
     "language": "python",
     "metadata": {},
     "outputs": [
      {
       "metadata": {},
       "output_type": "pyout",
       "prompt_number": 44,
       "text": [
        "<matplotlib.lines.Line2D at 0x10ab7f940>"
       ]
      },
      {
       "metadata": {},
       "output_type": "display_data",
       "png": "[encoded data removed]",
       "text": [
        "<matplotlib.figure.Figure at 0x10ab7f588>"
       ]
      }
     ],
     "prompt_number": 44
    },
    {
     "cell_type": "code",
     "collapsed": false,
     "input": [
      "males[\"Cabin_letter\"].value_counts()"
     ],
     "language": "python",
     "metadata": {},
     "outputs": [
      {
       "metadata": {},
       "output_type": "pyout",
       "prompt_number": 45,
       "text": [
        "NaN    470\n",
        "C       32\n",
        "B       20\n",
        "E       17\n",
        "D       15\n",
        "A       14\n",
        "F        8\n",
        "T        1\n",
        "dtype: int64"
       ]
      }
     ],
     "prompt_number": 45
    },
    {
     "cell_type": "code",
     "collapsed": false,
     "input": [
      "pd.pivot_table(females, index=[\"Cabin_letter\"], values=[\"Survived\"]) \\\n",
      "    .plot(kind=\"barh\")\n",
      "plt.axvline(x=0.5, linewidth=2, color='r')"
     ],
     "language": "python",
     "metadata": {},
     "outputs": [
      {
       "metadata": {},
       "output_type": "pyout",
       "prompt_number": 46,
       "text": [
        "<matplotlib.lines.Line2D at 0x10ac892e8>"
       ]
      },
      {
       "metadata": {},
       "output_type": "display_data",
       "png": "[encoded data removed]",
       "text": [
        "<matplotlib.figure.Figure at 0x10ad2fda0>"
       ]
      }
     ],
     "prompt_number": 46
    },
    {
     "cell_type": "code",
     "collapsed": false,
     "input": [
      "pd.pivot_table(males[males['AgeRange'] == '20 - 30'], index=[\"Embarked\", \"Pclass\"], values=[\"Survived\"]) \\\n",
      "    .plot(kind=\"barh\")\n",
      "plt.axvline(x=0.5, linewidth=2, color='r')"
     ],
     "language": "python",
     "metadata": {},
     "outputs": [
      {
       "metadata": {},
       "output_type": "pyout",
       "prompt_number": 47,
       "text": [
        "<matplotlib.lines.Line2D at 0x10ad76a58>"
       ]
      },
      {
       "metadata": {},
       "output_type": "display_data",
       "png": "[encoded data removed]",
       "text": [
        "<matplotlib.figure.Figure at 0x10ae20d68>"
       ]
      }
     ],
     "prompt_number": 47
    },
    {
     "cell_type": "code",
     "collapsed": false,
     "input": [
      "females[(females[\"Embarked\"] == 'S') & (females[\"Pclass\"] == 3)][\"Survived\"].value_counts()"
     ],
     "language": "python",
     "metadata": {},
     "outputs": [
      {
       "metadata": {},
       "output_type": "pyout",
       "prompt_number": 48,
       "text": [
        "0    55\n",
        "1    33\n",
        "dtype: int64"
       ]
      }
     ],
     "prompt_number": 48
    },
    {
     "cell_type": "markdown",
     "metadata": {},
     "source": [
      "females who embarked from \"S\" and are in third class are not likely to survive"
     ]
    },
    {
     "cell_type": "code",
     "collapsed": false,
     "input": [
      "pd.pivot_table(females[females[\"Pclass\"] == 3], index=[\"Embarked\", \"AgeRange\", \"Pclass\"], values=[\"Survived\"]) \\\n",
      "    .plot(kind=\"barh\")\n",
      "plt.axvline(x=0.5, linewidth=2, color='r')"
     ],
     "language": "python",
     "metadata": {},
     "outputs": [
      {
       "metadata": {},
       "output_type": "pyout",
       "prompt_number": 49,
       "text": [
        "<matplotlib.lines.Line2D at 0x10af08d68>"
       ]
      },
      {
       "metadata": {},
       "output_type": "display_data",
       "png": "[encoded data removed]",
       "text": [
        "<matplotlib.figure.Figure at 0x10af180f0>"
       ]
      }
     ],
     "prompt_number": 49
    },
    {
     "cell_type": "markdown",
     "metadata": {},
     "source": [
      "More specifically, females in 3rd class under thirty who embarked from \"S\" were unlikely to survive"
     ]
    },
    {
     "cell_type": "code",
     "collapsed": false,
     "input": [
      "test = pd.read_csv(\"test.csv\")\n",
      "test[\"Survived\"] = 0\n",
      "test.loc[(test[\"Sex\"] == \"female\") & (test[\"Age\"] > 10 ), \"Survived\"] = 1\n",
      "test.loc[(test[\"Age\"]) <= 10, \"Survived\"] = 1\n",
      "test.loc[(test[\"Embarked\"] == 'S') & (test[\"Pclass\"] == 3) & (test[\"Age\"] < 30), \"Survived\"] = 0"
     ],
     "language": "python",
     "metadata": {},
     "outputs": [],
     "prompt_number": 50
    },
    {
     "cell_type": "code",
     "collapsed": false,
     "input": [
      "test = test[[\"PassengerId\", \"Survived\"]]\n",
      "test.to_csv(\"Embarkedmodel.csv\", index=False)"
     ],
     "language": "python",
     "metadata": {},
     "outputs": [],
     "prompt_number": 51
    },
    {
     "cell_type": "code",
     "collapsed": false,
     "input": [
      "test[\"Survived\"].value_counts()"
     ],
     "language": "python",
     "metadata": {},
     "outputs": [
      {
       "metadata": {},
       "output_type": "pyout",
       "prompt_number": 52,
       "text": [
        "0    311\n",
        "1    107\n",
        "dtype: int64"
       ]
      }
     ],
     "prompt_number": 52
    },
    {
     "cell_type": "code",
     "collapsed": false,
     "input": [
      "plt.rcParams['figure.figsize'] = 10,10\n",
      "pd.pivot_table(males[males[\"Pclass\"] == 1], index=[\"Cabin_letter\", \"AgeRange\"], values=[\"Survived\"]) \\\n",
      "    .plot(kind=\"barh\")\n",
      "plt.axvline(x=0.5, linewidth=2, color='r')"
     ],
     "language": "python",
     "metadata": {},
     "outputs": [
      {
       "metadata": {},
       "output_type": "pyout",
       "prompt_number": 53,
       "text": [
        "<matplotlib.lines.Line2D at 0x10aff7470>"
       ]
      },
      {
       "metadata": {},
       "output_type": "display_data",
       "png": "[encoded data removed]",
       "text": [
        "<matplotlib.figure.Figure at 0x10a914e48>"
       ]
      }
     ],
     "prompt_number": 53
    },
    {
     "cell_type": "code",
     "collapsed": false,
     "input": [
      "males[(males[\"Pclass\"] == 1) & (males[\"Age\"].isin(range(25,43))) & (males[\"Fare\"] > 20)][\"Survived\"].value_counts()"
     ],
     "language": "python",
     "metadata": {},
     "outputs": [
      {
       "metadata": {},
       "output_type": "pyout",
       "prompt_number": 54,
       "text": [
        "1    23\n",
        "0    15\n",
        "dtype: int64"
       ]
      }
     ],
     "prompt_number": 54
    },
    {
     "cell_type": "markdown",
     "metadata": {},
     "source": [
      "males in first class who spent over $20 and are between 25 and 40 are more likely to survive"
     ]
    },
    {
     "cell_type": "code",
     "collapsed": false,
     "input": [
      "test = pd.read_csv(\"test.csv\")\n",
      "test[\"Survived\"] = 0\n",
      "test.loc[(test[\"Sex\"] == \"female\") & (test[\"Age\"] > 10 ), \"Survived\"] = 1\n",
      "test.loc[(test[\"Age\"]) <= 10, \"Survived\"] = 1\n",
      "test.loc[(test[\"Embarked\"] == 'S') & (test[\"Pclass\"] == 3) & (test[\"Age\"] < 30), \"Survived\"] = 0\n",
      "test.loc[(test[\"Sex\"] == \"male\") & (test[\"Pclass\"] == 1) & (test[\"Age\"].isin(range(25,40))) & (test[\"Fare\"] > 20), \"Survived\"] = 1"
     ],
     "language": "python",
     "metadata": {},
     "outputs": [],
     "prompt_number": 55
    },
    {
     "cell_type": "code",
     "collapsed": false,
     "input": [
      "test = test[[\"PassengerId\", \"Survived\"]]\n",
      "test.to_csv(\"Embarkedmodel2.csv\", index=False)"
     ],
     "language": "python",
     "metadata": {},
     "outputs": [],
     "prompt_number": 56
    },
    {
     "cell_type": "code",
     "collapsed": false,
     "input": [
      "test[\"Survived\"].value_counts()"
     ],
     "language": "python",
     "metadata": {},
     "outputs": [
      {
       "metadata": {},
       "output_type": "pyout",
       "prompt_number": 57,
       "text": [
        "0    299\n",
        "1    119\n",
        "dtype: int64"
       ]
      }
     ],
     "prompt_number": 57
    },
    {
     "cell_type": "code",
     "collapsed": false,
     "input": [
      "test = pd.read_csv(\"test.csv\")\n",
      "test[\"Cabin_letter\"] = test[\"Cabin\"].map(get_cabin_letter)\n",
      "test[\"Survived\"] = 0"
     ],
     "language": "python",
     "metadata": {},
     "outputs": [],
     "prompt_number": 58
    },
    {
     "cell_type": "code",
     "collapsed": false,
     "input": [
      "test[\"Cabin_letter\"].value_counts()"
     ],
     "language": "python",
     "metadata": {},
     "outputs": [
      {
       "metadata": {},
       "output_type": "pyout",
       "prompt_number": 60,
       "text": [
        "NaN    327\n",
        "C       35\n",
        "B       18\n",
        "D       13\n",
        "E        9\n",
        "F        8\n",
        "A        7\n",
        "G        1\n",
        "dtype: int64"
       ]
      }
     ],
     "prompt_number": 60
    },
    {
     "cell_type": "code",
     "collapsed": false,
     "input": [
      "test.loc[(test[\"Sex\"] == \"male\") & (test[\"Pclass\"] == 1) & (test[\"Age\"].isin(range(25,40))) & (test[\"Fare\"] > 20)]"
     ],
     "language": "python",
     "metadata": {},
     "outputs": [
      {
       "html": [
        "<div style=\"max-height:1000px;max-width:1500px;overflow:auto;\">\n",
        "<table border=\"1\" class=\"dataframe\">\n",
        "  <thead>\n",
        "    <tr style=\"text-align: right;\">\n",
        "      <th></th>\n",
        "      <th>PassengerId</th>\n",
        "      <th>Pclass</th>\n",
        "      <th>Name</th>\n",
        "      <th>Sex</th>\n",
        "      <th>Age</th>\n",
        "      <th>SibSp</th>\n",
        "      <th>Parch</th>\n",
        "      <th>Ticket</th>\n",
        "      <th>Fare</th>\n",
        "      <th>Cabin</th>\n",
        "      <th>Embarked</th>\n",
        "      <th>Survived</th>\n",
        "      <th>Cabin_letter</th>\n",
        "    </tr>\n",
        "  </thead>\n",
        "  <tbody>\n",
        "    <tr>\n",
        "      <th>34 </th>\n",
        "      <td>  926</td>\n",
        "      <td> 1</td>\n",
        "      <td>             Mock, Mr. Philipp Edmund</td>\n",
        "      <td> male</td>\n",
        "      <td> 30</td>\n",
        "      <td> 1</td>\n",
        "      <td> 0</td>\n",
        "      <td>    13236</td>\n",
        "      <td>  57.7500</td>\n",
        "      <td>     C78</td>\n",
        "      <td> C</td>\n",
        "      <td> 1</td>\n",
        "      <td>   C</td>\n",
        "    </tr>\n",
        "    <tr>\n",
        "      <th>68 </th>\n",
        "      <td>  960</td>\n",
        "      <td> 1</td>\n",
        "      <td>      Tucker, Mr. Gilbert Milligan Jr</td>\n",
        "      <td> male</td>\n",
        "      <td> 31</td>\n",
        "      <td> 0</td>\n",
        "      <td> 0</td>\n",
        "      <td>     2543</td>\n",
        "      <td>  28.5375</td>\n",
        "      <td>     C53</td>\n",
        "      <td> C</td>\n",
        "      <td> 1</td>\n",
        "      <td>   C</td>\n",
        "    </tr>\n",
        "    <tr>\n",
        "      <th>94 </th>\n",
        "      <td>  986</td>\n",
        "      <td> 1</td>\n",
        "      <td>                  Birnbaum, Mr. Jakob</td>\n",
        "      <td> male</td>\n",
        "      <td> 25</td>\n",
        "      <td> 0</td>\n",
        "      <td> 0</td>\n",
        "      <td>    13905</td>\n",
        "      <td>  26.0000</td>\n",
        "      <td>     NaN</td>\n",
        "      <td> C</td>\n",
        "      <td> 0</td>\n",
        "      <td> NaN</td>\n",
        "    </tr>\n",
        "    <tr>\n",
        "      <th>118</th>\n",
        "      <td> 1010</td>\n",
        "      <td> 1</td>\n",
        "      <td>                 Beattie, Mr. Thomson</td>\n",
        "      <td> male</td>\n",
        "      <td> 36</td>\n",
        "      <td> 0</td>\n",
        "      <td> 0</td>\n",
        "      <td>    13050</td>\n",
        "      <td>  75.2417</td>\n",
        "      <td>      C6</td>\n",
        "      <td> C</td>\n",
        "      <td> 1</td>\n",
        "      <td>   C</td>\n",
        "    </tr>\n",
        "    <tr>\n",
        "      <th>181</th>\n",
        "      <td> 1073</td>\n",
        "      <td> 1</td>\n",
        "      <td>     Compton, Mr. Alexander Taylor Jr</td>\n",
        "      <td> male</td>\n",
        "      <td> 37</td>\n",
        "      <td> 1</td>\n",
        "      <td> 1</td>\n",
        "      <td> PC 17756</td>\n",
        "      <td>  83.1583</td>\n",
        "      <td>     E52</td>\n",
        "      <td> C</td>\n",
        "      <td> 0</td>\n",
        "      <td>   E</td>\n",
        "    </tr>\n",
        "    <tr>\n",
        "      <th>234</th>\n",
        "      <td> 1126</td>\n",
        "      <td> 1</td>\n",
        "      <td>            Cumings, Mr. John Bradley</td>\n",
        "      <td> male</td>\n",
        "      <td> 39</td>\n",
        "      <td> 1</td>\n",
        "      <td> 0</td>\n",
        "      <td> PC 17599</td>\n",
        "      <td>  71.2833</td>\n",
        "      <td>     C85</td>\n",
        "      <td> C</td>\n",
        "      <td> 1</td>\n",
        "      <td>   C</td>\n",
        "    </tr>\n",
        "    <tr>\n",
        "      <th>252</th>\n",
        "      <td> 1144</td>\n",
        "      <td> 1</td>\n",
        "      <td>             Clark, Mr. Walter Miller</td>\n",
        "      <td> male</td>\n",
        "      <td> 27</td>\n",
        "      <td> 1</td>\n",
        "      <td> 0</td>\n",
        "      <td>    13508</td>\n",
        "      <td> 136.7792</td>\n",
        "      <td>     C89</td>\n",
        "      <td> C</td>\n",
        "      <td> 1</td>\n",
        "      <td>   C</td>\n",
        "    </tr>\n",
        "    <tr>\n",
        "      <th>298</th>\n",
        "      <td> 1190</td>\n",
        "      <td> 1</td>\n",
        "      <td>           Loring, Mr. Joseph Holland</td>\n",
        "      <td> male</td>\n",
        "      <td> 30</td>\n",
        "      <td> 0</td>\n",
        "      <td> 0</td>\n",
        "      <td>   113801</td>\n",
        "      <td>  45.5000</td>\n",
        "      <td>     NaN</td>\n",
        "      <td> S</td>\n",
        "      <td> 0</td>\n",
        "      <td> NaN</td>\n",
        "    </tr>\n",
        "    <tr>\n",
        "      <th>306</th>\n",
        "      <td> 1198</td>\n",
        "      <td> 1</td>\n",
        "      <td> Allison, Mr. Hudson Joshua Creighton</td>\n",
        "      <td> male</td>\n",
        "      <td> 30</td>\n",
        "      <td> 1</td>\n",
        "      <td> 2</td>\n",
        "      <td>   113781</td>\n",
        "      <td> 151.5500</td>\n",
        "      <td> C22 C26</td>\n",
        "      <td> S</td>\n",
        "      <td> 1</td>\n",
        "      <td>   C</td>\n",
        "    </tr>\n",
        "    <tr>\n",
        "      <th>323</th>\n",
        "      <td> 1215</td>\n",
        "      <td> 1</td>\n",
        "      <td>                   Rowe, Mr. Alfred G</td>\n",
        "      <td> male</td>\n",
        "      <td> 33</td>\n",
        "      <td> 0</td>\n",
        "      <td> 0</td>\n",
        "      <td>   113790</td>\n",
        "      <td>  26.5500</td>\n",
        "      <td>     NaN</td>\n",
        "      <td> S</td>\n",
        "      <td> 0</td>\n",
        "      <td> NaN</td>\n",
        "    </tr>\n",
        "    <tr>\n",
        "      <th>331</th>\n",
        "      <td> 1223</td>\n",
        "      <td> 1</td>\n",
        "      <td>         Dulles, Mr. William Crothers</td>\n",
        "      <td> male</td>\n",
        "      <td> 39</td>\n",
        "      <td> 0</td>\n",
        "      <td> 0</td>\n",
        "      <td> PC 17580</td>\n",
        "      <td>  29.7000</td>\n",
        "      <td>     A18</td>\n",
        "      <td> C</td>\n",
        "      <td> 0</td>\n",
        "      <td>   A</td>\n",
        "    </tr>\n",
        "    <tr>\n",
        "      <th>335</th>\n",
        "      <td> 1227</td>\n",
        "      <td> 1</td>\n",
        "      <td>             Maguire, Mr. John Edward</td>\n",
        "      <td> male</td>\n",
        "      <td> 30</td>\n",
        "      <td> 0</td>\n",
        "      <td> 0</td>\n",
        "      <td>   110469</td>\n",
        "      <td>  26.0000</td>\n",
        "      <td>    C106</td>\n",
        "      <td> S</td>\n",
        "      <td> 1</td>\n",
        "      <td>   C</td>\n",
        "    </tr>\n",
        "  </tbody>\n",
        "</table>\n",
        "</div>"
       ],
       "metadata": {},
       "output_type": "pyout",
       "prompt_number": 63,
       "text": [
        "     PassengerId  Pclass                                  Name   Sex  Age  \\\n",
        "34           926       1              Mock, Mr. Philipp Edmund  male   30   \n",
        "68           960       1       Tucker, Mr. Gilbert Milligan Jr  male   31   \n",
        "94           986       1                   Birnbaum, Mr. Jakob  male   25   \n",
        "118         1010       1                  Beattie, Mr. Thomson  male   36   \n",
        "181         1073       1      Compton, Mr. Alexander Taylor Jr  male   37   \n",
        "234         1126       1             Cumings, Mr. John Bradley  male   39   \n",
        "252         1144       1              Clark, Mr. Walter Miller  male   27   \n",
        "298         1190       1            Loring, Mr. Joseph Holland  male   30   \n",
        "306         1198       1  Allison, Mr. Hudson Joshua Creighton  male   30   \n",
        "323         1215       1                    Rowe, Mr. Alfred G  male   33   \n",
        "331         1223       1          Dulles, Mr. William Crothers  male   39   \n",
        "335         1227       1              Maguire, Mr. John Edward  male   30   \n",
        "\n",
        "     SibSp  Parch    Ticket      Fare    Cabin Embarked  Survived Cabin_letter  \n",
        "34       1      0     13236   57.7500      C78        C         1            C  \n",
        "68       0      0      2543   28.5375      C53        C         1            C  \n",
        "94       0      0     13905   26.0000      NaN        C         0          NaN  \n",
        "118      0      0     13050   75.2417       C6        C         1            C  \n",
        "181      1      1  PC 17756   83.1583      E52        C         0            E  \n",
        "234      1      0  PC 17599   71.2833      C85        C         1            C  \n",
        "252      1      0     13508  136.7792      C89        C         1            C  \n",
        "298      0      0    113801   45.5000      NaN        S         0          NaN  \n",
        "306      1      2    113781  151.5500  C22 C26        S         1            C  \n",
        "323      0      0    113790   26.5500      NaN        S         0          NaN  \n",
        "331      0      0  PC 17580   29.7000      A18        C         0            A  \n",
        "335      0      0    110469   26.0000     C106        S         1            C  "
       ]
      }
     ],
     "prompt_number": 63
    },
    {
     "cell_type": "code",
     "collapsed": false,
     "input": [
      "test = pd.read_csv(\"test.csv\")\n",
      "test[\"Survived\"] = 0\n",
      "test[\"Cabin_letter\"] = test[\"Cabin\"].map(get_cabin_letter)\n",
      "test.loc[(test[\"Sex\"] == \"female\") & (test[\"Age\"] > 10 ), \"Survived\"] = 1\n",
      "test.loc[(test[\"Age\"]) <= 10, \"Survived\"] = 1\n",
      "test.loc[(test[\"Embarked\"] == 'S') & (test[\"Pclass\"] == 3) & (test[\"Age\"] < 30), \"Survived\"] = 0\n",
      "test.loc[(test[\"Sex\"] == \"male\") & (test[\"Pclass\"] == 1) & (test[\"Age\"].isin(range(25,40))) & (test[\"Fare\"] > 20) \\\n",
      "         & (test[\"Cabin_letter\"] == 'C'), \"Survived\"] = 1"
     ],
     "language": "python",
     "metadata": {},
     "outputs": [],
     "prompt_number": 62
    },
    {
     "cell_type": "code",
     "collapsed": false,
     "input": [
      "test = test[[\"PassengerId\", \"Survived\"]]\n",
      "test.to_csv(\"Embarkedmodel3.csv\", index=False)"
     ],
     "language": "python",
     "metadata": {},
     "outputs": []
    },
    {
     "cell_type": "code",
     "collapsed": false,
     "input": [
      "test[\"Survived\"].value_counts()"
     ],
     "language": "python",
     "metadata": {},
     "outputs": []
    },
    {
     "cell_type": "code",
     "collapsed": false,
     "input": [
      "def get_cabin_number(cabin):\n",
      "    try:\n",
      "        nums = re.findall(r'\\d+', cabin)\n",
      "        if len(nums) > 0:\n",
      "            return int(nums[0])\n",
      "    except TypeError or ValueError:\n",
      "        return \"NaN\""
     ],
     "language": "python",
     "metadata": {},
     "outputs": []
    },
    {
     "cell_type": "code",
     "collapsed": false,
     "input": [
      "print(re.sub(r\"[A-Z]\",\"\",\"C123 B123\"))"
     ],
     "language": "python",
     "metadata": {},
     "outputs": []
    },
    {
     "cell_type": "code",
     "collapsed": false,
     "input": [
      "train[\"Cabin_number\"] = train[\"Cabin\"].map(get_cabin_number)"
     ],
     "language": "python",
     "metadata": {},
     "outputs": []
    },
    {
     "cell_type": "code",
     "collapsed": false,
     "input": [
      "males[\"Cabin_number\"] = males[\"Cabin\"].map(get_cabin_number)"
     ],
     "language": "python",
     "metadata": {},
     "outputs": []
    },
    {
     "cell_type": "code",
     "collapsed": false,
     "input": [
      "females[\"Cabin_number\"] = females[\"Cabin\"].map(get_cabin_number)"
     ],
     "language": "python",
     "metadata": {},
     "outputs": []
    },
    {
     "cell_type": "code",
     "collapsed": false,
     "input": [
      "pd.pivot_table(females, index=[\"Cabin_number\"], values=[\"Survived\"]) \\\n",
      "    .plot(kind=\"barh\")"
     ],
     "language": "python",
     "metadata": {},
     "outputs": []
    },
    {
     "cell_type": "code",
     "collapsed": false,
     "input": [
      "test = pd.read_csv(\"test.csv\")\n",
      "test[\"Survived\"] = 0\n",
      "test[\"Cabin_letter\"] = test[\"Cabin\"].map(get_cabin_letter)\n",
      "test.loc[(test[\"Sex\"] == \"female\") & (test[\"Age\"] > 10 ), \"Survived\"] = 1\n",
      "test.loc[(test[\"Age\"]) <= 10, \"Survived\"] = 1\n",
      "test.loc[(test[\"Embarked\"] == 'S') & (test[\"Pclass\"] == 3) & (test[\"Age\"] < 30), \"Survived\"] = 0\n",
      "test.loc[(test[\"Sex\"] == \"male\") & (test[\"Pclass\"] == 1) & (test[\"Age\"].isin(range(25,40))) & (test[\"Fare\"] > 20) \\\n",
      "         & (test[\"Embarked\"] == 'S'), \"Survived\"] = 1"
     ],
     "language": "python",
     "metadata": {},
     "outputs": [],
     "prompt_number": 64
    },
    {
     "cell_type": "code",
     "collapsed": false,
     "input": [
      "test = test[[\"PassengerId\", \"Survived\"]]\n",
      "test.to_csv(\"Embarkedmodel3.csv\", index=False)"
     ],
     "language": "python",
     "metadata": {},
     "outputs": [],
     "prompt_number": 65
    },
    {
     "cell_type": "code",
     "collapsed": false,
     "input": [
      "test[\"Survived\"].value_counts()"
     ],
     "language": "python",
     "metadata": {},
     "outputs": [
      {
       "metadata": {},
       "output_type": "pyout",
       "prompt_number": 66,
       "text": [
        "0    307\n",
        "1    111\n",
        "dtype: int64"
       ]
      }
     ],
     "prompt_number": 66
    },
    {
     "cell_type": "code",
     "collapsed": false,
     "input": [],
     "language": "python",
     "metadata": {},
     "outputs": []
    }
   ],
   "metadata": {}
  }
 ]
}